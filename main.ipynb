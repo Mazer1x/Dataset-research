{
 "cells": [
  {
   "cell_type": "markdown",
   "metadata": {},
   "source": [
    "Импортим библиотеки"
   ]
  },
  {
   "cell_type": "code",
   "execution_count": 30,
   "metadata": {},
   "outputs": [],
   "source": [
    "import pandas as pd\n",
    "import numpy as np"
   ]
  },
  {
   "cell_type": "code",
   "execution_count": 3,
   "metadata": {},
   "outputs": [],
   "source": [
    "df = pd.read_csv(\"Student Depression Dataset.csv\")"
   ]
  },
  {
   "cell_type": "markdown",
   "metadata": {},
   "source": [
    "Перед началом анализа получим хоть какую-то информацию о наших данных"
   ]
  },
  {
   "cell_type": "code",
   "execution_count": 13,
   "metadata": {},
   "outputs": [
    {
     "data": {
      "text/plain": [
       "{'id': 27901,\n",
       " 'Gender': 2,\n",
       " 'Age': 34,\n",
       " 'City': 52,\n",
       " 'Profession': 14,\n",
       " 'Academic Pressure': 6,\n",
       " 'Work Pressure': 3,\n",
       " 'CGPA': 332,\n",
       " 'Study Satisfaction': 6,\n",
       " 'Job Satisfaction': 5,\n",
       " 'Sleep Duration': 5,\n",
       " 'Dietary Habits': 4,\n",
       " 'Degree': 28,\n",
       " 'Have you ever had suicidal thoughts ?': 2,\n",
       " 'Work/Study Hours': 13,\n",
       " 'Financial Stress': 6,\n",
       " 'Family History of Mental Illness': 2,\n",
       " 'Depression': 2}"
      ]
     },
     "execution_count": 13,
     "metadata": {},
     "output_type": "execute_result"
    }
   ],
   "source": [
    "amount_uniq = {}\n",
    "for i in list(df.columns):\n",
    "    amount_uniq[i] = len(df[i].unique())\n",
    "amount_uniq"
   ]
  },
  {
   "cell_type": "markdown",
   "metadata": {},
   "source": [
    "Выделим основные колонки, которые можно попытаться \"сжать\" с помощью метода главных компонент или убрать вовсе"
   ]
  },
  {
   "cell_type": "code",
   "execution_count": null,
   "metadata": {},
   "outputs": [],
   "source": [
    "corr_cols = [i for i in list(amount_uniq.keys()) if amount_uniq[i]<=6]\n",
    "corr_cols.remove(\"Depression\") # т.к целевая переменная"
   ]
  },
  {
   "cell_type": "code",
   "execution_count": 32,
   "metadata": {},
   "outputs": [
    {
     "data": {
      "text/plain": [
       "['Gender',\n",
       " 'Academic Pressure',\n",
       " 'Work Pressure',\n",
       " 'Study Satisfaction',\n",
       " 'Job Satisfaction',\n",
       " 'Sleep Duration',\n",
       " 'Dietary Habits',\n",
       " 'Have you ever had suicidal thoughts ?',\n",
       " 'Financial Stress',\n",
       " 'Family History of Mental Illness']"
      ]
     },
     "execution_count": 32,
     "metadata": {},
     "output_type": "execute_result"
    }
   ],
   "source": [
    "corr_cols"
   ]
  },
  {
   "cell_type": "markdown",
   "metadata": {},
   "source": [
    "Заметим, что данные можно представить в бинарном виде или расположить в четком порядке возрастания/убывания"
   ]
  },
  {
   "cell_type": "markdown",
   "metadata": {},
   "source": [
    "Получается, уместно применить label encoding"
   ]
  },
  {
   "cell_type": "markdown",
   "metadata": {},
   "source": [
    "Однако, мы должны учитывать, что мы делаем преобразования, потому будем считать корреляцию по Спирмену"
   ]
  }
 ],
 "metadata": {
  "kernelspec": {
   "display_name": "ml",
   "language": "python",
   "name": "python3"
  },
  "language_info": {
   "codemirror_mode": {
    "name": "ipython",
    "version": 3
   },
   "file_extension": ".py",
   "mimetype": "text/x-python",
   "name": "python",
   "nbconvert_exporter": "python",
   "pygments_lexer": "ipython3",
   "version": "3.10.0"
  }
 },
 "nbformat": 4,
 "nbformat_minor": 2
}
